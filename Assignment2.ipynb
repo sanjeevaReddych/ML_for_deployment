{
 "cells": [
  {
   "cell_type": "markdown",
   "metadata": {},
   "source": [
    "# Task 1"
   ]
  },
  {
   "cell_type": "markdown",
   "metadata": {},
   "source": [
    "1.1\n",
    "Write a Python Program to implement your own myreduce() function which works exactly like\n",
    "Python's built-in function reduce()"
   ]
  },
  {
   "cell_type": "code",
   "execution_count": 22,
   "metadata": {},
   "outputs": [
    {
     "data": {
      "text/plain": [
       "6"
      ]
     },
     "execution_count": 22,
     "metadata": {},
     "output_type": "execute_result"
    }
   ],
   "source": [
    "def myred(func,seq,*init):\n",
    "    if len(seq)==0:\n",
    "        if init:\n",
    "            return init[0]\n",
    "        else:\n",
    "            print('need to define initial value atleast')\n",
    "            return\n",
    "    else:\n",
    "        seq.extend(init)\n",
    "        su=seq[0]\n",
    "        for i in seq[1:]:\n",
    "            su=func(su,i)\n",
    "        return su\n",
    "            \n",
    "def dosum(x,y):\n",
    "    return x+y\n",
    "\n",
    "myred(lambda x,y:x+y,[1,2,3])\n"
   ]
  },
  {
   "cell_type": "markdown",
   "metadata": {},
   "source": [
    "1.2\n",
    "Write a Python program to implement your own myfilter() function which works exactly like\n",
    "Python's built-in function filter()\n"
   ]
  },
  {
   "cell_type": "code",
   "execution_count": 24,
   "metadata": {},
   "outputs": [
    {
     "data": {
      "text/plain": [
       "[1]"
      ]
     },
     "execution_count": 24,
     "metadata": {},
     "output_type": "execute_result"
    }
   ],
   "source": [
    "\n",
    "def myfilter(fun,iterator):\n",
    "    if fun:\n",
    "        return [element for element in iterator if fun(element)]\n",
    "    else:\n",
    "        return [element for element in iterator if element]\n",
    "    \n",
    "def scan(element):\n",
    "    list=range(1,3,1)\n",
    "    if element in list:\n",
    "        return True\n",
    "\n",
    "\n",
    "seq=[1,0,3,True,False,'a']\n",
    "myfilter(None,seq)\n",
    "\n",
    "element=[1,10]\n",
    "myfilter(scan,element)\n"
   ]
  },
  {
   "cell_type": "markdown",
   "metadata": {},
   "source": [
    "2.\n",
    "Implement List comprehensions to produce the following lists."
   ]
  },
  {
   "cell_type": "code",
   "execution_count": 25,
   "metadata": {},
   "outputs": [
    {
     "name": "stdout",
     "output_type": "stream",
     "text": [
      "['A', 'C', 'A', 'D', 'G', 'I', 'L', 'D']\n",
      "['x', 'xx', 'xxx', 'xxxx', 'y', 'yy', 'yyy', 'yyyy', 'z', 'zz', 'zzz', 'zzzz']\n",
      "['x', 'y', 'z', 'xx', 'yy', 'zz', 'xxx', 'yyy', 'zzz', 'xxxx', 'yyyy', 'zzzz']\n",
      "[[2], [3], [4], [3], [4], [5], [4], [5], [6]]\n",
      "[[2, 3, 4, 5], [3, 4, 5, 6], [4, 5, 6, 7], [5, 6, 7, 8]]\n",
      "[(1, 1), (2, 1), (3, 1), (1, 2), (2, 2), (3, 2), (1, 3), (2, 3), (3, 3)]\n"
     ]
    }
   ],
   "source": [
    "print([i for i in 'ACADGILD'])\n",
    "print([i*x for i in ['x','y','z'] for x in range(1,5)])\n",
    "print([i*x for x in range(1,5) for i in ['x','y','z']])\n",
    "print([[x] for i in range(2,5) for x in range(i,i+3)])\n",
    "print([[x for x in range(i,i+4)] for i in range(2,6)])\n",
    "print([(j,i) for i in range(1,4) for j in range(1,4)])\n"
   ]
  },
  {
   "cell_type": "markdown",
   "metadata": {},
   "source": [
    "3.\n",
    "Implement a function longestWord() that takes a list of words and returns the longest one."
   ]
  },
  {
   "cell_type": "code",
   "execution_count": 31,
   "metadata": {},
   "outputs": [
    {
     "name": "stdout",
     "output_type": "stream",
     "text": [
      "longest word is: reddy\n"
     ]
    }
   ],
   "source": [
    "def longestWord(*args):\n",
    "    x=[]\n",
    "    xx=[]\n",
    "    for word in args:\n",
    "        xx.append(word)\n",
    "        x.append(len(word))\n",
    "    return print('longest word is: '+xx[x.index(max(x))])\n",
    "    \n",
    "longestWord('san','reddy')"
   ]
  },
  {
   "cell_type": "markdown",
   "metadata": {},
   "source": [
    "# Task 2:"
   ]
  },
  {
   "cell_type": "markdown",
   "metadata": {},
   "source": [
    "\n",
    "1.1\n",
    "Write a Python Program(with class concepts) to find the area of the triangle using the below\n",
    "formula.\n",
    "area = (s*(s-a)*(s-b)*(s-c)) ** 0.5\n",
    "Function to take the length of the sides of triangle from user should be defined in the parent\n",
    "class and function to calculate the area should be defined in subclass.\n"
   ]
  },
  {
   "cell_type": "code",
   "execution_count": 36,
   "metadata": {},
   "outputs": [
    {
     "name": "stdout",
     "output_type": "stream",
     "text": [
      "eneter three sides3,4,5\n",
      "area of traingle is:  6.0\n"
     ]
    }
   ],
   "source": [
    "class Parent():\n",
    "    def __init__(self,ss=[]):\n",
    "        self.ss=list(map(int,input('eneter three sides').split(',')))\n",
    "\n",
    "class Child(Parent):\n",
    "    def __init__(self):\n",
    "        Parent.__init__(self)\n",
    "        a=self.ss[0]\n",
    "        b=self.ss[1]\n",
    "        c=self.ss[2]\n",
    "        s=(a+b+c)/2\n",
    "        print('area of traingle is: ',(s*(s-a)*(s-b)*(s-c)) ** 0.5)\n",
    "\n",
    "c=Child()"
   ]
  },
  {
   "cell_type": "markdown",
   "metadata": {},
   "source": [
    "1.2\n",
    "Write a function filter_long_words() that takes a list of words and an integer n and returns the list\n",
    "of words that are longer than n.\n"
   ]
  },
  {
   "cell_type": "code",
   "execution_count": 37,
   "metadata": {},
   "outputs": [
    {
     "name": "stdout",
     "output_type": "stream",
     "text": [
      "list of words that are longer than 4 are ['reddy']\n"
     ]
    }
   ],
   "source": [
    "def filter_long_words(args,n):\n",
    "    return print('list of words that are longer than {} are {}'.format(n,[i for i in args if len(i)>n]))\n",
    "\n",
    "filter_long_words(['san', 'reddy','ch'],4)"
   ]
  },
  {
   "cell_type": "markdown",
   "metadata": {},
   "source": [
    "2.1\n",
    "Write a Python program using function concept that maps list of words into a list of integers\n",
    "representing the lengths of the corresponding words.\n",
    "Hint: If a list [ ab,cde,erty] is passed on to the python function output should come as [2,3,4]\n",
    "Here 2,3 and 4 are the lengths of the words in the list."
   ]
  },
  {
   "cell_type": "code",
   "execution_count": 39,
   "metadata": {},
   "outputs": [
    {
     "data": {
      "text/plain": [
       "[2, 3, 4]"
      ]
     },
     "execution_count": 39,
     "metadata": {},
     "output_type": "execute_result"
    }
   ],
   "source": [
    "def function(args):\n",
    "    return [len(i) for i in args]\n",
    "function([ \"ab\",\"cde\",\"erty\"])"
   ]
  },
  {
   "cell_type": "markdown",
   "metadata": {},
   "source": [
    "2.2\n",
    "Write a Python function which takes a character (i.e. a string of length 1) and returns True if it is\n",
    "a vowel, False otherwise.\n"
   ]
  },
  {
   "cell_type": "code",
   "execution_count": 54,
   "metadata": {},
   "outputs": [
    {
     "data": {
      "text/plain": [
       "True"
      ]
     },
     "execution_count": 54,
     "metadata": {},
     "output_type": "execute_result"
    }
   ],
   "source": [
    "\n",
    "def isvowel(chk):\n",
    "    try:\n",
    "        if chk.lower() in ['a','e','i','o','u']:\n",
    "            return True\n",
    "        else:\n",
    "            return False\n",
    "    except: print('Entry error')\n",
    "        \n",
    "isvowel('a')"
   ]
  },
  {
   "cell_type": "code",
   "execution_count": null,
   "metadata": {},
   "outputs": [],
   "source": []
  }
 ],
 "metadata": {
  "kernelspec": {
   "display_name": "Python 3",
   "language": "python",
   "name": "python3"
  },
  "language_info": {
   "codemirror_mode": {
    "name": "ipython",
    "version": 3
   },
   "file_extension": ".py",
   "mimetype": "text/x-python",
   "name": "python",
   "nbconvert_exporter": "python",
   "pygments_lexer": "ipython3",
   "version": "3.7.3"
  }
 },
 "nbformat": 4,
 "nbformat_minor": 2
}
